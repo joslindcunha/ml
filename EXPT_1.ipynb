{
 "cells": [
  {
   "cell_type": "code",
   "execution_count": 2,
   "metadata": {},
   "outputs": [
    {
     "name": "stdout",
     "output_type": "stream",
     "text": [
      "\n",
      " The most general hypothesois : ['?','?','?','?','?','?']\n",
      "\n",
      "\n",
      " The most specificeral hypothesois : ['0','0','0','0','0','0']\n",
      "\n",
      "\n",
      " The Given Training Data Set \n",
      "\n",
      "['Sunny', 'Warm', 'Normal', 'Strong', 'Warm', 'Same', 'Yes']\n",
      "['Sunny', 'Warm', 'High', 'Strong', 'Warm', 'Same', 'Yes']\n",
      "['Rainy', 'Cold', 'High', 'Strong', 'Warm', 'Change', 'No']\n",
      "['Sunny', 'Warm', 'High', 'Strong', 'Cool', 'Change', 'Yes']\n",
      "The initial value of hypothesis: \n",
      "['0', '0', '0', '0', '0', '0']\n",
      "\n",
      " find S:Finding a maximally Specific hypothesis\n",
      "\n",
      " For Training Example No:0 the hypothesis is  ['Sunny', 'Warm', 'Normal', 'Strong', 'Warm', 'Same']\n",
      " For Training Example No:1 the hypothesis is  ['Sunny', 'Warm', '?', 'Strong', 'Warm', 'Same']\n",
      " For Training Example No:2 the hypothesis is  ['Sunny', 'Warm', '?', 'Strong', 'Warm', 'Same']\n",
      " For Training Example No:3 the hypothesis is  ['Sunny', 'Warm', '?', 'Strong', '?', '?']\n",
      "\n",
      " The maximally Specific Hypothesis for a given Training Examples: \n",
      "\n",
      "['Sunny', 'Warm', '?', 'Strong', '?', '?']\n"
     ]
    }
   ],
   "source": [
    "import csv\n",
    "attributes=[['Sunny','Rainy'],\n",
    "           ['Warm','Cold'],\n",
    "           ['Normal','High'],\n",
    "           ['Strong','Weak'],\n",
    "           ['Warm','Cool'],\n",
    "           ['Same','Change']]\n",
    "num_attributes=len(attributes)\n",
    "\n",
    "print(\"\\n The most general hypothesois : ['?','?','?','?','?','?']\\n\")\n",
    "print(\"\\n The most specificeral hypothesois : ['0','0','0','0','0','0']\\n\")\n",
    "\n",
    "a=[]\n",
    "print(\"\\n The Given Training Data Set \\n\")\n",
    "\n",
    "with open('/home/student/Desktop/datasheet/ws.csv','r') as csvFile:\n",
    "    reader=csv.reader(csvFile)\n",
    "    for row in reader:\n",
    "        a.append(row)\n",
    "        print(row)\n",
    "\n",
    "print(\"The initial value of hypothesis: \")\n",
    "hypothesis=['0'] * num_attributes\n",
    "print(hypothesis)\n",
    "\n",
    "#comparing with First trainig examples\n",
    "for j in range(0,num_attributes):\n",
    "    hypothesis[j]=a[0][j]\n",
    "#comparing with remaining examples of given data set\n",
    "\n",
    "print(\"\\n find S:Finding a maximally Specific hypothesis\\n\")\n",
    "\n",
    "for i in range(0,len(a)):\n",
    "    if(a[i][num_attributes]=='Yes'):\n",
    "        for j in range(0,num_attributes):\n",
    "            if a[i][j]!=hypothesis[j]:\n",
    "                hypothesis[j]='?'\n",
    "            else:\n",
    "                hypothesis[j]=a[i][j]\n",
    "    print(\" For Training Example No:{0} the hypothesis is \".format(i),hypothesis)\n",
    "    \n",
    "print(\"\\n The maximally Specific Hypothesis for a given Training Examples: \\n\")\n",
    "print(hypothesis)\n"
   ]
  },
  {
   "cell_type": "code",
   "execution_count": null,
   "metadata": {
    "collapsed": true
   },
   "outputs": [],
   "source": []
  }
 ],
 "metadata": {
  "kernelspec": {
   "display_name": "Python 3",
   "language": "python",
   "name": "python3"
  },
  "language_info": {
   "codemirror_mode": {
    "name": "ipython",
    "version": 3
   },
   "file_extension": ".py",
   "mimetype": "text/x-python",
   "name": "python",
   "nbconvert_exporter": "python",
   "pygments_lexer": "ipython3",
   "version": "3.6.6"
  }
 },
 "nbformat": 4,
 "nbformat_minor": 2
}
