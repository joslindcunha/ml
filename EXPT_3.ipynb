{
 "cells": [
  {
   "cell_type": "code",
   "execution_count": 8,
   "metadata": {},
   "outputs": [
    {
     "name": "stdout",
     "output_type": "stream",
     "text": [
      "\n",
      " Given Play Tennis Data Set:\n",
      "\n",
      "    PlayTennis   Outlook Temperature Humidity    Wind\n",
      "0          No     Sunny         Hot     High    Weak\n",
      "1          No     Sunny         Hot     High  Strong\n",
      "2         Yes  Overcast         Hot     High    Weak\n",
      "3         Yes      Rain        Mild     High    Weak\n",
      "4         Yes      Rain        Cool   Normal    Weak\n",
      "5          No      Rain        Cool   Normal  Strong\n",
      "6         Yes  Overcast        Cool   Normal  Strong\n",
      "7          No     Sunny        Mild     High    Weak\n",
      "8         Yes     Sunny        Cool   Normal    Weak\n",
      "9         Yes      Rain        Mild   Normal    Weak\n",
      "10        Yes     Sunny        Mild   Normal  Strong\n",
      "11        Yes  Overcast        Mild     High  Strong\n",
      "12        Yes  Overcast         Hot   Normal    Weak\n",
      "13         No      Rain        Mild     High  Strong\n",
      "List of Attributes: ['PlayTennis', 'Outlook', 'Temperature', 'Humidity', 'Wind']\n",
      "Predicting Attributes: ['Outlook', 'Temperature', 'Humidity', 'Wind']\n",
      "Gain= [0.2467498197744391, 0.029222565658954647, 0.15183550136234136, 0.04812703040826927]\n",
      "Best Attribute: Outlook\n",
      "Gain= [0.01997309402197489, 0.01997309402197489, 0.9709505944546686]\n",
      "Best Attribute: Wind\n",
      "Gain= [0.5709505944546686, 0.9709505944546686, 0.01997309402197489]\n",
      "Best Attribute: Humidity\n",
      "\n",
      "\n",
      "The Resultant Decision Tree is :\n",
      "\n",
      "{'Outlook': {'Overcast': 'Yes',\n",
      "             'Rain': {'Wind': {'Strong': 'No', 'Weak': 'Yes'}},\n",
      "             'Sunny': {'Humidity': {'High': 'No', 'Normal': 'Yes'}}}}\n"
     ]
    },
    {
     "name": "stderr",
     "output_type": "stream",
     "text": [
      "/home/student/anaconda3/lib/python3.6/site-packages/ipykernel_launcher.py:3: FutureWarning: from_csv is deprecated. Please use read_csv(...) instead. Note that some of the default arguments are different, so please refer to the documentation for from_csv when changing your function calls\n",
      "  This is separate from the ipykernel package so we can avoid doing imports until\n"
     ]
    }
   ],
   "source": [
    "import pandas as pd\n",
    "from pandas import DataFrame \n",
    "df_tennis = DataFrame.from_csv('/home/student/Desktop/datasheet/PlayTennis.csv')\n",
    "print(\"\\n Given Play Tennis Data Set:\\n\\n\", df_tennis)\n",
    "\n",
    "df_tennis.keys()[0]\n",
    "\n",
    "def entropy(probs):  \n",
    "    import math\n",
    "    return sum( [-prob*math.log(prob, 2) for prob in probs] )\n",
    "\n",
    "def entropy_of_list(a_list):  \n",
    "    from collections import Counter\n",
    "    cnt = Counter(x for x in a_list)   \n",
    "    num_instances = len(a_list)*1.0   \n",
    "    probs = [x / num_instances for x in cnt.values()]  \n",
    "    return entropy(probs) \n",
    "\n",
    "def information_gain(df, split_attribute_name, target_attribute_name, trace=0):\n",
    "    df_split = df.groupby(split_attribute_name)\n",
    "    nobs = len(df.index) * 1.0\n",
    "    df_agg_ent = df_split.agg({target_attribute_name : [entropy_of_list, lambda x: len(x)/nobs] })[target_attribute_name]\n",
    "    df_agg_ent.columns = ['Entropy', 'PropObservations']\n",
    "    new_entropy = sum( df_agg_ent['Entropy'] * df_agg_ent['PropObservations'] )\n",
    "    old_entropy = entropy_of_list(df[target_attribute_name])\n",
    "    return old_entropy - new_entropy\n",
    "\n",
    "def id3(df, target_attribute_name, attribute_names, default_class=None):\n",
    "    from collections import Counter\n",
    "    cnt = Counter(x for x in df[target_attribute_name])# class of YES /NO\n",
    "    if len(cnt) == 1:\n",
    "        return next(iter(cnt))  # next input data set, or raises StopIteration when EOF is hit.\n",
    "    elif df.empty or (not attribute_names):\n",
    "        return default_class  \n",
    "    else:      \n",
    "        default_class = max(cnt.keys()) \n",
    "        gainz = [information_gain(df, attr, target_attribute_name) for attr in attribute_names] \n",
    "        print(\"Gain=\",gainz)\n",
    "        index_of_max = gainz.index(max(gainz)) \n",
    "        best_attr = attribute_names[index_of_max]\n",
    "        print(\"Best Attribute:\",best_attr)\n",
    "        tree = {best_attr:{}} \n",
    "        remaining_attribute_names = [i for i in attribute_names if i != best_attr]\n",
    "        \n",
    "        \n",
    "        for attr_val, data_subset in df.groupby(best_attr):\n",
    "            subtree = id3(data_subset,\n",
    "                        target_attribute_name,\n",
    "                        remaining_attribute_names,\n",
    "                        default_class)\n",
    "            tree[best_attr][attr_val] = subtree\n",
    "        return tree\n",
    "\n",
    "\n",
    "attribute_names = list(df_tennis.columns)\n",
    "print(\"List of Attributes:\", attribute_names) \n",
    "attribute_names.remove('PlayTennis')  \n",
    "print(\"Predicting Attributes:\", attribute_names)\n",
    "\n",
    "# Run Algorithm:\n",
    "from pprint import pprint\n",
    "tree = id3(df_tennis,'PlayTennis',attribute_names)\n",
    "print(\"\\n\\nThe Resultant Decision Tree is :\\n\")\n",
    "pprint(tree)"
   ]
  },
  {
   "cell_type": "code",
   "execution_count": null,
   "metadata": {
    "collapsed": true
   },
   "outputs": [],
   "source": []
  }
 ],
 "metadata": {
  "kernelspec": {
   "display_name": "Python 3",
   "language": "python",
   "name": "python3"
  },
  "language_info": {
   "codemirror_mode": {
    "name": "ipython",
    "version": 3
   },
   "file_extension": ".py",
   "mimetype": "text/x-python",
   "name": "python",
   "nbconvert_exporter": "python",
   "pygments_lexer": "ipython3",
   "version": "3.6.6"
  }
 },
 "nbformat": 4,
 "nbformat_minor": 2
}
